{
 "cells": [
  {
   "cell_type": "markdown",
   "id": "01c3a9d9-f935-4f6f-9426-1d84860ec3bd",
   "metadata": {},
   "source": [
    "## Tahmine Dayalı toplama ve çıkartma işlemleri yapacağız."
   ]
  },
  {
   "cell_type": "code",
   "execution_count": 1,
   "id": "f870c33f-cc8f-44bf-b82a-e117dba3cfb2",
   "metadata": {},
   "outputs": [],
   "source": [
    "import numpy as np\n",
    "import pandas as pd\n",
    "import seaborn as sns"
   ]
  },
  {
   "cell_type": "code",
   "execution_count": 2,
   "id": "785cb57b-d776-4971-b060-4281d85b58f8",
   "metadata": {},
   "outputs": [
    {
     "data": {
      "text/html": [
       "<div>\n",
       "<style scoped>\n",
       "    .dataframe tbody tr th:only-of-type {\n",
       "        vertical-align: middle;\n",
       "    }\n",
       "\n",
       "    .dataframe tbody tr th {\n",
       "        vertical-align: top;\n",
       "    }\n",
       "\n",
       "    .dataframe thead th {\n",
       "        text-align: right;\n",
       "    }\n",
       "</style>\n",
       "<table border=\"1\" class=\"dataframe\">\n",
       "  <thead>\n",
       "    <tr style=\"text-align: right;\">\n",
       "      <th></th>\n",
       "      <th>num1</th>\n",
       "      <th>num2</th>\n",
       "      <th>toplama</th>\n",
       "      <th>cıkartma</th>\n",
       "      <th>bolme</th>\n",
       "      <th>carpma</th>\n",
       "    </tr>\n",
       "  </thead>\n",
       "  <tbody>\n",
       "    <tr>\n",
       "      <th>0</th>\n",
       "      <td>402</td>\n",
       "      <td>127</td>\n",
       "      <td>529</td>\n",
       "      <td>275</td>\n",
       "      <td>3.165354</td>\n",
       "      <td>51054</td>\n",
       "    </tr>\n",
       "    <tr>\n",
       "      <th>1</th>\n",
       "      <td>735</td>\n",
       "      <td>56</td>\n",
       "      <td>791</td>\n",
       "      <td>679</td>\n",
       "      <td>13.125000</td>\n",
       "      <td>41160</td>\n",
       "    </tr>\n",
       "    <tr>\n",
       "      <th>2</th>\n",
       "      <td>570</td>\n",
       "      <td>14</td>\n",
       "      <td>584</td>\n",
       "      <td>556</td>\n",
       "      <td>40.714286</td>\n",
       "      <td>7980</td>\n",
       "    </tr>\n",
       "    <tr>\n",
       "      <th>3</th>\n",
       "      <td>406</td>\n",
       "      <td>28</td>\n",
       "      <td>434</td>\n",
       "      <td>378</td>\n",
       "      <td>14.500000</td>\n",
       "      <td>11368</td>\n",
       "    </tr>\n",
       "    <tr>\n",
       "      <th>4</th>\n",
       "      <td>371</td>\n",
       "      <td>78</td>\n",
       "      <td>449</td>\n",
       "      <td>293</td>\n",
       "      <td>4.756410</td>\n",
       "      <td>28938</td>\n",
       "    </tr>\n",
       "  </tbody>\n",
       "</table>\n",
       "</div>"
      ],
      "text/plain": [
       "   num1  num2  toplama  cıkartma      bolme  carpma\n",
       "0   402   127      529       275   3.165354   51054\n",
       "1   735    56      791       679  13.125000   41160\n",
       "2   570    14      584       556  40.714286    7980\n",
       "3   406    28      434       378  14.500000   11368\n",
       "4   371    78      449       293   4.756410   28938"
      ]
     },
     "execution_count": 2,
     "metadata": {},
     "output_type": "execute_result"
    }
   ],
   "source": [
    "np.random.seed(42)\n",
    "num1 = np.random.randint(300, 900, size=700)\n",
    "num2 = np.random.randint(1, 200, size=700)\n",
    "data = pd.DataFrame({\n",
    "    'num1': num1,\n",
    "    'num2': num2,\n",
    "    'toplama': num1 + num2,\n",
    "    'cıkartma': num1 - num2,\n",
    "    'bolme': num1 / num2,\n",
    "    'carpma': num1 * num2\n",
    "})\n",
    "data.head()"
   ]
  },
  {
   "cell_type": "code",
   "execution_count": null,
   "id": "e15e064b-3744-408a-9702-47023d05f849",
   "metadata": {},
   "outputs": [],
   "source": []
  },
  {
   "cell_type": "markdown",
   "id": "232b09f2-f46c-4310-be9f-bc648cdb9a3e",
   "metadata": {},
   "source": [
    "# Toplama İşlemi İçin Model İşlemleri"
   ]
  },
  {
   "cell_type": "code",
   "execution_count": 3,
   "id": "c433e030-125a-4864-aa90-8a3ba0d312fe",
   "metadata": {},
   "outputs": [],
   "source": [
    "# bağımlı ve bağımsız değişkenleri oluşturalım.\n",
    "X = data[['num1', 'num2']]\n",
    "y = data['toplama']"
   ]
  },
  {
   "cell_type": "code",
   "execution_count": 4,
   "id": "c1dcae48-3bf1-47e2-9dc5-1da972433cb0",
   "metadata": {},
   "outputs": [],
   "source": [
    "from sklearn.linear_model import LinearRegression, Lasso, Ridge, ElasticNet\n",
    "from sklearn.model_selection import train_test_split\n",
    "from sklearn.metrics import r2_score"
   ]
  },
  {
   "cell_type": "code",
   "execution_count": 5,
   "id": "80f53af2-2597-4af6-9919-856cdcfaa00c",
   "metadata": {},
   "outputs": [],
   "source": [
    "# Eğitim ve test setlerimizi ayıralım.\n",
    "X_train, X_test, y_train, y_test = train_test_split(X, y, test_size=0.2, random_state=42)"
   ]
  },
  {
   "cell_type": "code",
   "execution_count": 6,
   "id": "158f2ab3-52d0-4a62-9a94-e3f65cbcbbeb",
   "metadata": {},
   "outputs": [
    {
     "name": "stdout",
     "output_type": "stream",
     "text": [
      "Linear Regression modeli için R-Kare değeri: 1.0\n",
      "Lasso modeli için R-Kare değeri: 0.9999999913033439\n",
      "Ridge modeli için R-Kare değeri: 0.9999999999999722\n",
      "ElasticNet modeli için R-Kare değeri: 0.999999991305546\n"
     ]
    }
   ],
   "source": [
    "# En uygun modeli bulalım.\n",
    "models = {\n",
    "    'Linear Regression': LinearRegression(),\n",
    "    'Lasso': Lasso(),\n",
    "    'Ridge': Ridge(),\n",
    "    'ElasticNet': ElasticNet()\n",
    "}\n",
    "\n",
    "for name, model in models.items():\n",
    "    model = model.fit(X_train, y_train)\n",
    "    y_pred = model.predict(X_test)\n",
    "    r2 = r2_score(y_test, y_pred)\n",
    "    print(f'{name} modeli için R-Kare değeri: {r2}')"
   ]
  },
  {
   "cell_type": "code",
   "execution_count": 7,
   "id": "7811e73a-404f-4ed8-8ad0-4c60fec3e76c",
   "metadata": {},
   "outputs": [
    {
     "name": "stdout",
     "output_type": "stream",
     "text": [
      "R-Kare Değeri:  1.0\n"
     ]
    }
   ],
   "source": [
    "# LinearRegression modelini oluşturalım.\n",
    "toplam_model = LinearRegression().fit(X_train, y_train)\n",
    "y_pred = toplam_model.predict(X_test)\n",
    "r2 = r2_score(y_test, y_pred)\n",
    "print('R-Kare Değeri: ', r2)"
   ]
  },
  {
   "cell_type": "markdown",
   "id": "60ed9d30-8db7-4513-9c5d-a42864c451f5",
   "metadata": {},
   "source": [
    "# Tahmin"
   ]
  },
  {
   "cell_type": "code",
   "execution_count": 8,
   "id": "fa5c5760-cbab-4826-9517-47844b1f3354",
   "metadata": {},
   "outputs": [
    {
     "name": "stdin",
     "output_type": "stream",
     "text": [
      "Birinci Sayıyı Giriniz:  2\n",
      "İkinci Sayıyı Giriniz:  2\n"
     ]
    },
    {
     "name": "stdout",
     "output_type": "stream",
     "text": [
      "----------------------------------------------------\n",
      "Tahmini İşlem Sonucu: 4.00\n"
     ]
    },
    {
     "name": "stderr",
     "output_type": "stream",
     "text": [
      "C:\\Users\\murat\\anaconda3\\lib\\site-packages\\sklearn\\base.py:450: UserWarning: X does not have valid feature names, but LinearRegression was fitted with feature names\n",
      "  warnings.warn(\n"
     ]
    }
   ],
   "source": [
    "num1 = float(input('Birinci Sayıyı Giriniz: '))\n",
    "num2 = float(input('İkinci Sayıyı Giriniz: '))\n",
    "\n",
    "predict = toplam_model.predict([[num1, num2]])\n",
    "\n",
    "print('----------------------------------------------------')\n",
    "print(f'Tahmini İşlem Sonucu: {float(predict):.2f}')"
   ]
  },
  {
   "cell_type": "markdown",
   "id": "2913ad7c-87d1-4fd7-a38a-0bccc7d9d394",
   "metadata": {},
   "source": [
    "# ----------------------------------------------------------------------------------"
   ]
  },
  {
   "cell_type": "markdown",
   "id": "5b3896f8-e7f8-4f95-b804-c9d17fe4dce7",
   "metadata": {},
   "source": [
    "# Çıkartma İşlemi İçin Model İşlemleri"
   ]
  },
  {
   "cell_type": "code",
   "execution_count": 9,
   "id": "0f57def7-5929-4de6-a3a8-d8c5947d87e4",
   "metadata": {},
   "outputs": [],
   "source": [
    "# bağımlı ve bağımsız değişkenleri seçelim.\n",
    "X = data[['num1', 'num2']]\n",
    "y = data['cıkartma']"
   ]
  },
  {
   "cell_type": "code",
   "execution_count": 10,
   "id": "79dc2707-ad1e-435b-8ed1-c16c1cac71bd",
   "metadata": {},
   "outputs": [],
   "source": [
    "# eğitim ve test setlerini ayıralım.\n",
    "X_train, X_test, y_train, y_test = train_test_split(X, y, test_size=0.2, random_state=42)"
   ]
  },
  {
   "cell_type": "code",
   "execution_count": 11,
   "id": "ffffe2a5-1f03-4127-a4ac-861340a4ef83",
   "metadata": {},
   "outputs": [
    {
     "name": "stdout",
     "output_type": "stream",
     "text": [
      "LinearRegression modeli için R-Kare değeri: 1.0\n",
      "Lasso modeli için R-Kare değeri: 0.9999999921399588\n",
      "Ridge modeli için R-Kare değeri: 0.9999999999999749\n",
      "ElasticNet modeli için R-Kare değeri: 0.9999999921420333\n"
     ]
    }
   ],
   "source": [
    "# En iyi modeli bulalım.\n",
    "models = {\n",
    "    'LinearRegression': LinearRegression(),\n",
    "    'Lasso': Lasso(),\n",
    "    'Ridge': Ridge(),\n",
    "    'ElasticNet': ElasticNet()\n",
    "}\n",
    "\n",
    "for name, model in models.items():\n",
    "    model = model.fit(X_train, y_train)\n",
    "    y_pred = model.predict(X_test)\n",
    "    r2 = r2_score(y_test, y_pred)\n",
    "    print(f'{name} modeli için R-Kare değeri: {r2}')"
   ]
  },
  {
   "cell_type": "code",
   "execution_count": 12,
   "id": "601bef7b-3f8b-4b7e-b4f7-9c9c773b3107",
   "metadata": {},
   "outputs": [
    {
     "name": "stdout",
     "output_type": "stream",
     "text": [
      "R-Kare Değeri:  1.0\n"
     ]
    }
   ],
   "source": [
    "# LinearRegression modelini oluşturalım.\n",
    "cikartma_model = LinearRegression().fit(X_train, y_train)\n",
    "y_pred = cikartma_model.predict(X_test)\n",
    "r2 = r2_score(y_test, y_pred)\n",
    "print('R-Kare Değeri: ', r2)"
   ]
  },
  {
   "cell_type": "markdown",
   "id": "9d3d3b36-1f2c-45e7-be34-781d80ca70d9",
   "metadata": {},
   "source": [
    "# Tahmin"
   ]
  },
  {
   "cell_type": "code",
   "execution_count": 13,
   "id": "1fd498da-57df-4c1d-b2c3-fba0e26eb8b1",
   "metadata": {},
   "outputs": [
    {
     "name": "stdin",
     "output_type": "stream",
     "text": [
      "Birinci Sayıyı Giriniz:  2\n",
      "İkinci Sayıyı Giriniz:  2\n"
     ]
    },
    {
     "name": "stdout",
     "output_type": "stream",
     "text": [
      "---------------------------------------------\n",
      "Tahmini İşlem Sonucu: 0.00\n"
     ]
    },
    {
     "name": "stderr",
     "output_type": "stream",
     "text": [
      "C:\\Users\\murat\\anaconda3\\lib\\site-packages\\sklearn\\base.py:450: UserWarning: X does not have valid feature names, but LinearRegression was fitted with feature names\n",
      "  warnings.warn(\n"
     ]
    }
   ],
   "source": [
    "num1 = float(input('Birinci Sayıyı Giriniz: '))\n",
    "num2 = float(input('İkinci Sayıyı Giriniz: '))\n",
    "\n",
    "predict = cikartma_model.predict([[num1, num2]])\n",
    "print('---------------------------------------------')\n",
    "print(f'Tahmini İşlem Sonucu: {float(predict):.2f}')"
   ]
  },
  {
   "cell_type": "markdown",
   "id": "fcbe49a7-0d00-4f51-baf0-27a01aa9e8dc",
   "metadata": {},
   "source": [
    "# -----------------------------------------------------------------------------------"
   ]
  },
  {
   "cell_type": "code",
   "execution_count": 17,
   "id": "6dc064e2-1bcf-4db5-a7c2-a3df049ec169",
   "metadata": {},
   "outputs": [
    {
     "name": "stdin",
     "output_type": "stream",
     "text": [
      "Birinci Sayıyı Giriniz:  3\n",
      "İkinci Sayıyı Giriniz:  1\n",
      "İşlem Giriniz (+,-):  -\n"
     ]
    },
    {
     "name": "stdout",
     "output_type": "stream",
     "text": [
      "---------------------------------------------------------------------\n",
      "Tahmini İşlem Sonucu: 2.00\n"
     ]
    },
    {
     "name": "stderr",
     "output_type": "stream",
     "text": [
      "C:\\Users\\murat\\anaconda3\\lib\\site-packages\\sklearn\\base.py:450: UserWarning: X does not have valid feature names, but LinearRegression was fitted with feature names\n",
      "  warnings.warn(\n"
     ]
    }
   ],
   "source": [
    "user_input1 = float(input('Birinci Sayıyı Giriniz: '))\n",
    "user_input2 = float(input('İkinci Sayıyı Giriniz: '))\n",
    "user_input3 = input('İşlem Giriniz (+,-): ')\n",
    "print('---------------------------------------------------------------------')\n",
    "if user_input3 == '+':\n",
    "    predict = toplam_model.predict([[user_input1, user_input2]])\n",
    "    print(f'Tahmini İşlem Sonucu: {float(predict):.2f}')\n",
    "elif user_input3 == '-':\n",
    "    predict = cikartma_model.predict([[user_input1, user_input2]])\n",
    "    print(f'Tahmini İşlem Sonucu: {float(predict):.2f}')\n",
    "else:\n",
    "    print('Lütfen Tekrar Deneyiniz!')"
   ]
  }
 ],
 "metadata": {
  "kernelspec": {
   "display_name": "Python 3 (ipykernel)",
   "language": "python",
   "name": "python3"
  },
  "language_info": {
   "codemirror_mode": {
    "name": "ipython",
    "version": 3
   },
   "file_extension": ".py",
   "mimetype": "text/x-python",
   "name": "python",
   "nbconvert_exporter": "python",
   "pygments_lexer": "ipython3",
   "version": "3.9.12"
  }
 },
 "nbformat": 4,
 "nbformat_minor": 5
}
